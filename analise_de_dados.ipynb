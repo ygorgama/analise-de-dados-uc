{
 "cells": [
  {
   "cell_type": "code",
   "execution_count": 1,
   "id": "fb5b9e90-273f-4c93-9108-03d99f9e6ad8",
   "metadata": {},
   "outputs": [],
   "source": [
    "import pandas as pd"
   ]
  },
  {
   "cell_type": "code",
   "execution_count": 2,
   "id": "78ffa2ba-d8a5-42ac-a7da-a383bef00aa2",
   "metadata": {},
   "outputs": [],
   "source": [
    "dt = pd.read_csv('febre_amarela.csv', sep=';')"
   ]
  },
  {
   "cell_type": "code",
   "execution_count": 3,
   "id": "408c5fc8-18bc-4190-8a32-131377f43958",
   "metadata": {},
   "outputs": [
    {
     "data": {
      "text/html": [
       "<div>\n",
       "<style scoped>\n",
       "    .dataframe tbody tr th:only-of-type {\n",
       "        vertical-align: middle;\n",
       "    }\n",
       "\n",
       "    .dataframe tbody tr th {\n",
       "        vertical-align: top;\n",
       "    }\n",
       "\n",
       "    .dataframe thead th {\n",
       "        text-align: right;\n",
       "    }\n",
       "</style>\n",
       "<table border=\"1\" class=\"dataframe\">\n",
       "  <thead>\n",
       "    <tr style=\"text-align: right;\">\n",
       "      <th></th>\n",
       "      <th>ID</th>\n",
       "      <th>MACRORREG_LPI</th>\n",
       "      <th>COD_UF_LPI</th>\n",
       "      <th>UF_LPI</th>\n",
       "      <th>COD_MUN_LPI</th>\n",
       "      <th>MUN_LPI</th>\n",
       "      <th>SEXO</th>\n",
       "      <th>IDADE</th>\n",
       "      <th>DT_IS</th>\n",
       "      <th>SE_IS</th>\n",
       "      <th>MES_IS</th>\n",
       "      <th>ANO_IS</th>\n",
       "      <th>MONITORAMENTO_IS</th>\n",
       "      <th>OBITO</th>\n",
       "      <th>DT_OBITO</th>\n",
       "    </tr>\n",
       "  </thead>\n",
       "  <tbody>\n",
       "    <tr>\n",
       "      <th>0</th>\n",
       "      <td>1</td>\n",
       "      <td>N</td>\n",
       "      <td>14</td>\n",
       "      <td>RR</td>\n",
       "      <td>140005.0</td>\n",
       "      <td>ALTO ALEGRE</td>\n",
       "      <td>M</td>\n",
       "      <td>NaN</td>\n",
       "      <td>29/11/1994</td>\n",
       "      <td>48.0</td>\n",
       "      <td>11.0</td>\n",
       "      <td>1994</td>\n",
       "      <td>1994/1995</td>\n",
       "      <td>SIM</td>\n",
       "      <td>01/12/1994</td>\n",
       "    </tr>\n",
       "    <tr>\n",
       "      <th>1</th>\n",
       "      <td>2</td>\n",
       "      <td>N</td>\n",
       "      <td>14</td>\n",
       "      <td>RR</td>\n",
       "      <td>140045.0</td>\n",
       "      <td>PACARAIMA</td>\n",
       "      <td>M</td>\n",
       "      <td>19.0</td>\n",
       "      <td>19/02/1995</td>\n",
       "      <td>8.0</td>\n",
       "      <td>2.0</td>\n",
       "      <td>1995</td>\n",
       "      <td>1994/1995</td>\n",
       "      <td>N�O</td>\n",
       "      <td>NaN</td>\n",
       "    </tr>\n",
       "    <tr>\n",
       "      <th>2</th>\n",
       "      <td>3</td>\n",
       "      <td>NE</td>\n",
       "      <td>21</td>\n",
       "      <td>MA</td>\n",
       "      <td>210060.0</td>\n",
       "      <td>AMARANTE DO MARANH�O</td>\n",
       "      <td>M</td>\n",
       "      <td>32.0</td>\n",
       "      <td>01/04/1995</td>\n",
       "      <td>13.0</td>\n",
       "      <td>4.0</td>\n",
       "      <td>1995</td>\n",
       "      <td>1994/1995</td>\n",
       "      <td>IGN</td>\n",
       "      <td>NaN</td>\n",
       "    </tr>\n",
       "    <tr>\n",
       "      <th>3</th>\n",
       "      <td>4</td>\n",
       "      <td>NE</td>\n",
       "      <td>21</td>\n",
       "      <td>MA</td>\n",
       "      <td>210060.0</td>\n",
       "      <td>AMARANTE DO MARANH�O</td>\n",
       "      <td>M</td>\n",
       "      <td>33.0</td>\n",
       "      <td>03/04/1995</td>\n",
       "      <td>14.0</td>\n",
       "      <td>4.0</td>\n",
       "      <td>1995</td>\n",
       "      <td>1994/1995</td>\n",
       "      <td>SIM</td>\n",
       "      <td>09/04/1995</td>\n",
       "    </tr>\n",
       "    <tr>\n",
       "      <th>4</th>\n",
       "      <td>5</td>\n",
       "      <td>N</td>\n",
       "      <td>15</td>\n",
       "      <td>PA</td>\n",
       "      <td>150270.0</td>\n",
       "      <td>CONCEI��O DO ARAGUAIA</td>\n",
       "      <td>M</td>\n",
       "      <td>26.0</td>\n",
       "      <td>12/04/1995</td>\n",
       "      <td>15.0</td>\n",
       "      <td>4.0</td>\n",
       "      <td>1995</td>\n",
       "      <td>1994/1995</td>\n",
       "      <td>SIM</td>\n",
       "      <td>20/04/1995</td>\n",
       "    </tr>\n",
       "  </tbody>\n",
       "</table>\n",
       "</div>"
      ],
      "text/plain": [
       "   ID MACRORREG_LPI  COD_UF_LPI UF_LPI  COD_MUN_LPI                MUN_LPI  \\\n",
       "0   1             N          14     RR     140005.0            ALTO ALEGRE   \n",
       "1   2             N          14     RR     140045.0              PACARAIMA   \n",
       "2   3            NE          21     MA     210060.0   AMARANTE DO MARANH�O   \n",
       "3   4            NE          21     MA     210060.0   AMARANTE DO MARANH�O   \n",
       "4   5             N          15     PA     150270.0  CONCEI��O DO ARAGUAIA   \n",
       "\n",
       "  SEXO  IDADE       DT_IS  SE_IS  MES_IS  ANO_IS MONITORAMENTO_IS OBITO  \\\n",
       "0    M    NaN  29/11/1994   48.0    11.0    1994        1994/1995   SIM   \n",
       "1    M   19.0  19/02/1995    8.0     2.0    1995        1994/1995   N�O   \n",
       "2    M   32.0  01/04/1995   13.0     4.0    1995        1994/1995   IGN   \n",
       "3    M   33.0  03/04/1995   14.0     4.0    1995        1994/1995   SIM   \n",
       "4    M   26.0  12/04/1995   15.0     4.0    1995        1994/1995   SIM   \n",
       "\n",
       "     DT_OBITO  \n",
       "0  01/12/1994  \n",
       "1         NaN  \n",
       "2         NaN  \n",
       "3  09/04/1995  \n",
       "4  20/04/1995  "
      ]
     },
     "execution_count": 3,
     "metadata": {},
     "output_type": "execute_result"
    }
   ],
   "source": [
    "dt.head()"
   ]
  },
  {
   "cell_type": "code",
   "execution_count": 4,
   "id": "40e4305b-799e-48dd-a634-9ab57a095509",
   "metadata": {},
   "outputs": [],
   "source": [
    "dt.columns = ['Id', 'Regiao', 'Codigo_Unidade_Federativa', 'Sigla_Unidade_Federativa', 'Codigo_Municipio', 'Nome_Municipio', \n",
    "                               'Sexo', 'Idade', 'Data_Inicio_Sintoma', 'Semana_De_Inicio_Sintoma', 'Mes_Inicio_Sintoma',\n",
    "                                'Ano_Inicio_Sintoma', 'Periodo_Monitoramento_Sintomas' ,'Obito', 'Data_Obito'\n",
    "                              ]"
   ]
  },
  {
   "cell_type": "code",
   "execution_count": 5,
   "id": "2a86d64c-b2d0-4507-b0d1-eb8e4871dd12",
   "metadata": {},
   "outputs": [],
   "source": [
    "dt.drop(columns=['Id'], inplace=True)"
   ]
  },
  {
   "cell_type": "code",
   "execution_count": 6,
   "id": "f6be95f4-83ae-4666-a774-aa2661fbd095",
   "metadata": {},
   "outputs": [
    {
     "data": {
      "text/html": [
       "<div>\n",
       "<style scoped>\n",
       "    .dataframe tbody tr th:only-of-type {\n",
       "        vertical-align: middle;\n",
       "    }\n",
       "\n",
       "    .dataframe tbody tr th {\n",
       "        vertical-align: top;\n",
       "    }\n",
       "\n",
       "    .dataframe thead th {\n",
       "        text-align: right;\n",
       "    }\n",
       "</style>\n",
       "<table border=\"1\" class=\"dataframe\">\n",
       "  <thead>\n",
       "    <tr style=\"text-align: right;\">\n",
       "      <th></th>\n",
       "      <th>Regiao</th>\n",
       "      <th>Codigo_Unidade_Federativa</th>\n",
       "      <th>Sigla_Unidade_Federativa</th>\n",
       "      <th>Codigo_Municipio</th>\n",
       "      <th>Nome_Municipio</th>\n",
       "      <th>Sexo</th>\n",
       "      <th>Idade</th>\n",
       "      <th>Data_Inicio_Sintoma</th>\n",
       "      <th>Semana_De_Inicio_Sintoma</th>\n",
       "      <th>Mes_Inicio_Sintoma</th>\n",
       "      <th>Ano_Inicio_Sintoma</th>\n",
       "      <th>Periodo_Monitoramento_Sintomas</th>\n",
       "      <th>Obito</th>\n",
       "      <th>Data_Obito</th>\n",
       "    </tr>\n",
       "  </thead>\n",
       "  <tbody>\n",
       "    <tr>\n",
       "      <th>0</th>\n",
       "      <td>N</td>\n",
       "      <td>14</td>\n",
       "      <td>RR</td>\n",
       "      <td>140005.0</td>\n",
       "      <td>ALTO ALEGRE</td>\n",
       "      <td>M</td>\n",
       "      <td>NaN</td>\n",
       "      <td>29/11/1994</td>\n",
       "      <td>48.0</td>\n",
       "      <td>11.0</td>\n",
       "      <td>1994</td>\n",
       "      <td>1994/1995</td>\n",
       "      <td>SIM</td>\n",
       "      <td>01/12/1994</td>\n",
       "    </tr>\n",
       "    <tr>\n",
       "      <th>1</th>\n",
       "      <td>N</td>\n",
       "      <td>14</td>\n",
       "      <td>RR</td>\n",
       "      <td>140045.0</td>\n",
       "      <td>PACARAIMA</td>\n",
       "      <td>M</td>\n",
       "      <td>19.0</td>\n",
       "      <td>19/02/1995</td>\n",
       "      <td>8.0</td>\n",
       "      <td>2.0</td>\n",
       "      <td>1995</td>\n",
       "      <td>1994/1995</td>\n",
       "      <td>N�O</td>\n",
       "      <td>NaN</td>\n",
       "    </tr>\n",
       "    <tr>\n",
       "      <th>2</th>\n",
       "      <td>NE</td>\n",
       "      <td>21</td>\n",
       "      <td>MA</td>\n",
       "      <td>210060.0</td>\n",
       "      <td>AMARANTE DO MARANH�O</td>\n",
       "      <td>M</td>\n",
       "      <td>32.0</td>\n",
       "      <td>01/04/1995</td>\n",
       "      <td>13.0</td>\n",
       "      <td>4.0</td>\n",
       "      <td>1995</td>\n",
       "      <td>1994/1995</td>\n",
       "      <td>IGN</td>\n",
       "      <td>NaN</td>\n",
       "    </tr>\n",
       "    <tr>\n",
       "      <th>3</th>\n",
       "      <td>NE</td>\n",
       "      <td>21</td>\n",
       "      <td>MA</td>\n",
       "      <td>210060.0</td>\n",
       "      <td>AMARANTE DO MARANH�O</td>\n",
       "      <td>M</td>\n",
       "      <td>33.0</td>\n",
       "      <td>03/04/1995</td>\n",
       "      <td>14.0</td>\n",
       "      <td>4.0</td>\n",
       "      <td>1995</td>\n",
       "      <td>1994/1995</td>\n",
       "      <td>SIM</td>\n",
       "      <td>09/04/1995</td>\n",
       "    </tr>\n",
       "    <tr>\n",
       "      <th>4</th>\n",
       "      <td>N</td>\n",
       "      <td>15</td>\n",
       "      <td>PA</td>\n",
       "      <td>150270.0</td>\n",
       "      <td>CONCEI��O DO ARAGUAIA</td>\n",
       "      <td>M</td>\n",
       "      <td>26.0</td>\n",
       "      <td>12/04/1995</td>\n",
       "      <td>15.0</td>\n",
       "      <td>4.0</td>\n",
       "      <td>1995</td>\n",
       "      <td>1994/1995</td>\n",
       "      <td>SIM</td>\n",
       "      <td>20/04/1995</td>\n",
       "    </tr>\n",
       "  </tbody>\n",
       "</table>\n",
       "</div>"
      ],
      "text/plain": [
       "  Regiao  Codigo_Unidade_Federativa Sigla_Unidade_Federativa  \\\n",
       "0      N                         14                       RR   \n",
       "1      N                         14                       RR   \n",
       "2     NE                         21                       MA   \n",
       "3     NE                         21                       MA   \n",
       "4      N                         15                       PA   \n",
       "\n",
       "   Codigo_Municipio         Nome_Municipio Sexo  Idade Data_Inicio_Sintoma  \\\n",
       "0          140005.0            ALTO ALEGRE    M    NaN          29/11/1994   \n",
       "1          140045.0              PACARAIMA    M   19.0          19/02/1995   \n",
       "2          210060.0   AMARANTE DO MARANH�O    M   32.0          01/04/1995   \n",
       "3          210060.0   AMARANTE DO MARANH�O    M   33.0          03/04/1995   \n",
       "4          150270.0  CONCEI��O DO ARAGUAIA    M   26.0          12/04/1995   \n",
       "\n",
       "   Semana_De_Inicio_Sintoma  Mes_Inicio_Sintoma  Ano_Inicio_Sintoma  \\\n",
       "0                      48.0                11.0                1994   \n",
       "1                       8.0                 2.0                1995   \n",
       "2                      13.0                 4.0                1995   \n",
       "3                      14.0                 4.0                1995   \n",
       "4                      15.0                 4.0                1995   \n",
       "\n",
       "  Periodo_Monitoramento_Sintomas Obito  Data_Obito  \n",
       "0                      1994/1995   SIM  01/12/1994  \n",
       "1                      1994/1995   N�O         NaN  \n",
       "2                      1994/1995   IGN         NaN  \n",
       "3                      1994/1995   SIM  09/04/1995  \n",
       "4                      1994/1995   SIM  20/04/1995  "
      ]
     },
     "execution_count": 6,
     "metadata": {},
     "output_type": "execute_result"
    }
   ],
   "source": [
    "dt.head()"
   ]
  },
  {
   "cell_type": "code",
   "execution_count": 7,
   "id": "943fe5b1-b11d-4004-b600-0ef2a61fe0e4",
   "metadata": {},
   "outputs": [],
   "source": [
    "dt['Idade'] = pd.to_numeric(dt['Idade'])"
   ]
  },
  {
   "cell_type": "code",
   "execution_count": 8,
   "id": "65667467-0022-4bc1-aed9-72ac359af4f1",
   "metadata": {},
   "outputs": [
    {
     "data": {
      "text/plain": [
       "Sigla_Unidade_Federativa\n",
       "AC       2\n",
       "AM      50\n",
       "BA      10\n",
       "DF      10\n",
       "ES     258\n",
       "GO      98\n",
       "MA       2\n",
       "MG    1098\n",
       "MS      12\n",
       "MT      27\n",
       "PA      96\n",
       "PR      14\n",
       "RJ     307\n",
       "RO       2\n",
       "RR      18\n",
       "RS      21\n",
       "SC      27\n",
       "SP     691\n",
       "TO      25\n",
       "dtype: int64"
      ]
     },
     "execution_count": 8,
     "metadata": {},
     "output_type": "execute_result"
    }
   ],
   "source": [
    "agrupado = dt.groupby(['Sigla_Unidade_Federativa']).size()\n",
    "agrupado"
   ]
  },
  {
   "cell_type": "code",
   "execution_count": 9,
   "id": "340b70e2-aef1-4475-9c8a-12806cc4bc16",
   "metadata": {},
   "outputs": [
    {
     "data": {
      "text/plain": [
       "Sexo\n",
       "F     476\n",
       "M    2291\n",
       "dtype: int64"
      ]
     },
     "execution_count": 9,
     "metadata": {},
     "output_type": "execute_result"
    }
   ],
   "source": [
    "agrupado = dt.groupby(['Sexo']).size()\n",
    "agrupado"
   ]
  },
  {
   "cell_type": "code",
   "execution_count": 10,
   "id": "b2ae1835-58a1-47d6-9631-2f6f66d4a463",
   "metadata": {},
   "outputs": [
    {
     "data": {
      "text/plain": [
       "Obito\n",
       "IGN      88\n",
       "N�O    1670\n",
       "SIM    1010\n",
       "dtype: int64"
      ]
     },
     "execution_count": 10,
     "metadata": {},
     "output_type": "execute_result"
    }
   ],
   "source": [
    "agrupado = dt.groupby(['Obito']).size()\n",
    "agrupado"
   ]
  },
  {
   "cell_type": "code",
   "execution_count": 11,
   "id": "d935e877-4ea5-42dc-9ef1-64eebec65615",
   "metadata": {},
   "outputs": [
    {
     "data": {
      "text/plain": [
       "count    2766.000000\n",
       "mean       42.570299\n",
       "std        16.609067\n",
       "min         0.000000\n",
       "25%        30.000000\n",
       "50%        43.000000\n",
       "75%        55.000000\n",
       "max        93.000000\n",
       "Name: Idade, dtype: float64"
      ]
     },
     "execution_count": 11,
     "metadata": {},
     "output_type": "execute_result"
    }
   ],
   "source": [
    "dt['Idade'].describe()"
   ]
  },
  {
   "cell_type": "code",
   "execution_count": 12,
   "id": "005ac286-4432-4c93-a4a6-8ef440bb7cec",
   "metadata": {},
   "outputs": [
    {
     "data": {
      "text/plain": [
       "Regiao                               0\n",
       "Codigo_Unidade_Federativa            0\n",
       "Sigla_Unidade_Federativa             0\n",
       "Codigo_Municipio                     7\n",
       "Nome_Municipio                       6\n",
       "Sexo                                 1\n",
       "Idade                                2\n",
       "Data_Inicio_Sintoma                  5\n",
       "Semana_De_Inicio_Sintoma            16\n",
       "Mes_Inicio_Sintoma                  11\n",
       "Ano_Inicio_Sintoma                   0\n",
       "Periodo_Monitoramento_Sintomas       0\n",
       "Obito                                0\n",
       "Data_Obito                        1789\n",
       "dtype: int64"
      ]
     },
     "execution_count": 12,
     "metadata": {},
     "output_type": "execute_result"
    }
   ],
   "source": [
    "dt.isnull().sum()"
   ]
  },
  {
   "cell_type": "code",
   "execution_count": 13,
   "id": "75254b78-1fcf-45fa-bd47-802755807404",
   "metadata": {},
   "outputs": [],
   "source": [
    "dt['Sexo'] = dt['Sexo'].fillna('M')"
   ]
  },
  {
   "cell_type": "code",
   "execution_count": 14,
   "id": "5b7ab123-0bf4-41f6-94f9-cb312400390e",
   "metadata": {},
   "outputs": [],
   "source": [
    "import statistics as sts"
   ]
  },
  {
   "cell_type": "code",
   "execution_count": 15,
   "id": "d4e38256-fba6-4502-b57b-4e262ddf1d16",
   "metadata": {},
   "outputs": [
    {
     "data": {
      "text/plain": [
       "70.5"
      ]
     },
     "execution_count": 15,
     "metadata": {},
     "output_type": "execute_result"
    }
   ],
   "source": [
    "mediana = sts.median(dt['Idade'])\n",
    "mediana"
   ]
  },
  {
   "cell_type": "code",
   "execution_count": 16,
   "id": "4269197f-0c38-4ac0-a791-0395cc37ef6f",
   "metadata": {},
   "outputs": [],
   "source": [
    "dt.loc[dt['Data_Obito'].isnull(), 'Obito'] = 'NAO' "
   ]
  },
  {
   "cell_type": "code",
   "execution_count": 20,
   "id": "50411de9-f719-4f2c-b9a8-9111c96962c6",
   "metadata": {},
   "outputs": [],
   "source": [
    "dt['Idade'] = dt['Idade'].fillna(mediana)"
   ]
  },
  {
   "cell_type": "code",
   "execution_count": 22,
   "id": "c62e6bd3-8898-4e5a-8a4b-9c880efe3232",
   "metadata": {},
   "outputs": [],
   "source": [
    "dt['Idade'] = dt['Idade'].astype(int)"
   ]
  },
  {
   "cell_type": "code",
   "execution_count": 40,
   "id": "cc14f2c1-be7b-41f9-9e7e-bf6fc9f548db",
   "metadata": {},
   "outputs": [],
   "source": [
    "dt.dropna(subset=['Codigo_Municipio'], inplace=True)\n",
    "dt.dropna(subset=['Data_Inicio_Sintoma'], inplace=True)\n",
    "dt.dropna(subset=['Semana_De_Inicio_Sintoma'], inplace=True)\n",
    "dt.dropna(subset=['Mes_Inicio_Sintoma'], inplace=True)\n",
    "dt.dropna(subset=['Ano_Inicio_Sintoma'], inplace=True)"
   ]
  },
  {
   "cell_type": "code",
   "execution_count": 41,
   "id": "b6db4ce0-1a93-41b5-8703-28c51e596b74",
   "metadata": {},
   "outputs": [
    {
     "data": {
      "text/plain": [
       "Regiao                               0\n",
       "Codigo_Unidade_Federativa            0\n",
       "Sigla_Unidade_Federativa             0\n",
       "Codigo_Municipio                     0\n",
       "Nome_Municipio                       0\n",
       "Sexo                                 0\n",
       "Idade                                0\n",
       "Data_Inicio_Sintoma                  0\n",
       "Semana_De_Inicio_Sintoma             0\n",
       "Mes_Inicio_Sintoma                   0\n",
       "Ano_Inicio_Sintoma                   0\n",
       "Periodo_Monitoramento_Sintomas       0\n",
       "Obito                                0\n",
       "Data_Obito                        1772\n",
       "dtype: int64"
      ]
     },
     "execution_count": 41,
     "metadata": {},
     "output_type": "execute_result"
    }
   ],
   "source": [
    "dt.isnull().sum()"
   ]
  },
  {
   "cell_type": "code",
   "execution_count": 43,
   "id": "30afc4f7-5299-40f0-89a3-bd0ca11d9625",
   "metadata": {},
   "outputs": [],
   "source": [
    "dt.to_csv('dados_tratados.csv', index=False)"
   ]
  },
  {
   "cell_type": "code",
   "execution_count": null,
   "id": "33b8b7ad-a820-4fbc-b162-0df8779cea9d",
   "metadata": {},
   "outputs": [],
   "source": []
  }
 ],
 "metadata": {
  "kernelspec": {
   "display_name": "Python 3 (ipykernel)",
   "language": "python",
   "name": "python3"
  },
  "language_info": {
   "codemirror_mode": {
    "name": "ipython",
    "version": 3
   },
   "file_extension": ".py",
   "mimetype": "text/x-python",
   "name": "python",
   "nbconvert_exporter": "python",
   "pygments_lexer": "ipython3",
   "version": "3.12.2"
  }
 },
 "nbformat": 4,
 "nbformat_minor": 5
}
